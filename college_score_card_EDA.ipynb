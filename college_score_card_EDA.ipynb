{
 "cells": [
  {
   "cell_type": "markdown",
   "id": "fba72f85",
   "metadata": {},
   "source": [
    "# College Score Card Exploratory Data Analysis"
   ]
  },
  {
   "cell_type": "code",
   "execution_count": 7,
   "id": "45ab72db",
   "metadata": {},
   "outputs": [
    {
     "name": "stdout",
     "output_type": "stream",
     "text": [
      "Dataset URL: https://www.kaggle.com/datasets/kaggle/college-scorecard\n"
     ]
    }
   ],
   "source": [
    "# Load dataset from Kaggle\n",
    "import kaggle\n",
    "import pandas as pd\n",
    "from io import StringIO\n",
    "\n",
    "# Download dataset\n",
    "kaggle.api.dataset_download_files(\n",
    "    'kaggle/college-scorecard',\n",
    "    path = \"/college_scorecard_data\",\n",
    "    unzip = True\n",
    ")"
   ]
  },
  {
   "cell_type": "code",
   "execution_count": null,
   "id": "3cc03305",
   "metadata": {},
   "outputs": [
    {
     "name": "stdout",
     "output_type": "stream",
     "text": [
      "==================================================\n"
     ]
    }
   ],
   "source": []
  }
 ],
 "metadata": {
  "kernelspec": {
   "display_name": "venv",
   "language": "python",
   "name": "python3"
  },
  "language_info": {
   "codemirror_mode": {
    "name": "ipython",
    "version": 3
   },
   "file_extension": ".py",
   "mimetype": "text/x-python",
   "name": "python",
   "nbconvert_exporter": "python",
   "pygments_lexer": "ipython3",
   "version": "3.13.6"
  }
 },
 "nbformat": 4,
 "nbformat_minor": 5
}
