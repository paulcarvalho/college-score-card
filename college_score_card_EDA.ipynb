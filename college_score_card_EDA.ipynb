{
 "cells": [
  {
   "cell_type": "markdown",
   "id": "fba72f85",
   "metadata": {},
   "source": [
    "# College Score Card Exploratory Data Analysis"
   ]
  },
  {
   "cell_type": "code",
   "execution_count": null,
   "id": "45ab72db",
   "metadata": {},
   "outputs": [],
   "source": []
  }
 ],
 "metadata": {
  "language_info": {
   "name": "python"
  }
 },
 "nbformat": 4,
 "nbformat_minor": 5
}
